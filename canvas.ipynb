{
 "cells": [
  {
   "cell_type": "code",
   "execution_count": 1,
   "metadata": {},
   "outputs": [
    {
     "data": {
      "text/plain": [
       "True"
      ]
     },
     "execution_count": 1,
     "metadata": {},
     "output_type": "execute_result"
    }
   ],
   "source": [
    "from dotenv import load_dotenv\n",
    "load_dotenv()"
   ]
  },
  {
   "cell_type": "code",
   "execution_count": 2,
   "metadata": {},
   "outputs": [],
   "source": [
    "from tool_evaluator_agent.tools import ScrapingFishTool"
   ]
  },
  {
   "cell_type": "code",
   "execution_count": 20,
   "metadata": {},
   "outputs": [],
   "source": [
    "import os\n",
    "SCRAPING_FISH_API_KEY = os.getenv(\"SCRAPING_FISH_API_KEY\")\n"
   ]
  },
  {
   "cell_type": "code",
   "execution_count": 3,
   "metadata": {},
   "outputs": [
    {
     "name": "stdout",
     "output_type": "stream",
     "text": [
      "Using Tool: Scrape website content\n"
     ]
    }
   ],
   "source": [
    "content = ScrapingFishTool().run('https://www.orulo.com.br')"
   ]
  },
  {
   "cell_type": "code",
   "execution_count": 4,
   "metadata": {},
   "outputs": [
    {
     "name": "stdout",
     "output_type": "stream",
     "text": [
      "\n",
      "Scrapped Content: A maior plataforma de imóveis novos do Brasil\n",
      "\n",
      "Somos o marketplace de imóveis residenciais e comerciais mais completo do país, otimizando a geração de oportunidades de negócios de agentes imobiliários e incorporadoras.\n",
      "\n",
      "Integramos o ecossistema de parcerias imobiliárias\n",
      "\n",
      "Criamos soluções que conectam corretores, imobiliárias e incorporadoras, eliminando atritos nas transações imobiliárias.\n",
      "\n",
      "A maior evolução que o mercado de imóveis já viu\n",
      "\n",
      "A primeira plataforma B2B de distribuição de unidades de imóveis integrada a diversos sistemas de CRMs imobiliários.\n",
      "\n",
      "A plataforma que empodera corretores de imóveis\n",
      "\n",
      "Simplificamos a jornada de atendimento, acelerando as vendas. Baixe o App gratuitamente e atenda clientes com facilidade em qualquer lugar.\n",
      "\n",
      "Integração e distribuição\n",
      "\n",
      "Incorporadoras integram seus lançamentos em qualquer operação imobiliária, além de distribuir suas unidades via interfaces mobile e desktop Órulo.\n",
      "\n",
      "O mercado imobiliário onde quer que você esteja\n",
      "\n",
      "Utilize a Órulo para encontrar 100% dos imóveis novos da sua região. Tenha acesso gratuito a tabelas e materiais de vendas de incorporadoras, além de portfólios de imóveis atualizados em tempo real.\n",
      "\n",
      "Baixe o app\n",
      "\n",
      "Plataforma integrada para aceleração da comercialização\n",
      "\n",
      "Como funciona?\n",
      "\n",
      "Simples e Rápido\n",
      "\n",
      "Sou Incorporador\n",
      "\n",
      "Distribuimos as informações dos empreendimentos em bases qualificadas de corretores e imobiliárias, ampliando a promoção e os canais de vendas.\n",
      "\n",
      "Sou Imobiliária\n",
      "\n",
      "Através da integração de CRM resolvemos a atualização de milhares de ofertas imobiliárias em seu website e a distribuição de suas exclusividades.\n",
      "\n",
      "Sou Corretor\n",
      "\n",
      "Facilitamos a busca e o acesso ao portfólio de imóveis com a mais completa ferramenta de pesquisa e inteligência imobiliária para atender clientes e acelerar vendas.\n",
      "\n",
      "Números da plataforma\n",
      "\n",
      "Incorporadoras\n",
      "\n",
      "Imobiliárias integradas\n",
      "\n",
      "Corretores\n",
      "\n",
      "Clientes que confiam na solução\n",
      "\n",
      "Já somos uma engrenagem indispensável em diversas cidades brasileiras e estamos sempre expandindo a nossa atuação.\n",
      "\n",
      "Carregando...\n",
      "\n",
      "Parceiros Tecnológicos, Integrações\n",
      "\n",
      "Em conjunto com os principais sistemas imobiliários do país, já compomos a maior rede integrada de informações imobiliárias do Brasil.\n",
      "\n",
      "O que dizem nossos clientes\n",
      "\n",
      "A Órulo é uma plataforma completa. Além de fácil de usar, todas as informações dos projetos estão sempre atualizadas: book, tabela, telefone do coordenador comercial.\n",
      "\n",
      "Daniela Dias Corretora | SP\n",
      "\n",
      "Na Órulo consigo ter acesso a vários imóveis de incorporadoras e ao contato comercial para otimizar minhas vendas. Posso enviar o site para meus clientes através do link de WhatsApp, melhorando meu atendimento, dentre outras facilidades.\n",
      "\n",
      "Tarciane Schieve Corretora | RS\n",
      "\n",
      "Nós utilizamos muito, Órulo é vida! Excelente plataforma. Viva a parceria imobiliária.\n",
      "\n",
      "São Paulo Imóveis Imobiliária | SP\n",
      "\n",
      "Ótimo para compartilhar nossos imóveis exclusivos.\n",
      "\n",
      "Alexandre Nunes Corretor | SP\n",
      "\n"
     ]
    }
   ],
   "source": [
    "print(content)"
   ]
  },
  {
   "cell_type": "code",
   "execution_count": 2,
   "metadata": {},
   "outputs": [
    {
     "name": "stderr",
     "output_type": "stream",
     "text": [
      "/Users/aolchik/mambaforge/envs/crewai/lib/python3.11/site-packages/tqdm/auto.py:21: TqdmWarning: IProgress not found. Please update jupyter and ipywidgets. See https://ipywidgets.readthedocs.io/en/stable/user_install.html\n",
      "  from .autonotebook import tqdm as notebook_tqdm\n"
     ]
    }
   ],
   "source": [
    "import os\n",
    "from google.oauth2 import service_account\n",
    "from langchain_google_genai import ChatGoogleGenerativeAI\n",
    "\n",
    "# Set the path to the service account JSON key file\n",
    "service_account_file = os.getenv(\"GOOGLE_SERVICE_ACCOUNT_FILE\")\n",
    "\n",
    "# Authenticate using the service account key\n",
    "credentials = service_account.Credentials.from_service_account_file(service_account_file)\n"
   ]
  },
  {
   "cell_type": "code",
   "execution_count": 6,
   "metadata": {},
   "outputs": [
    {
     "name": "stderr",
     "output_type": "stream",
     "text": [
      "I0000 00:00:1724249811.931081 19971561 check_gcp_environment_no_op.cc:29] ALTS: Platforms other than Linux and Windows are not supported\n",
      "I0000 00:00:1724249811.931865 19971561 check_gcp_environment_no_op.cc:29] ALTS: Platforms other than Linux and Windows are not supported\n"
     ]
    }
   ],
   "source": [
    "from langchain_google_genai import ChatGoogleGenerativeAI\n",
    "llm=ChatGoogleGenerativeAI(model='gemini-1.5-flash',\n",
    "                            verbose=True,\n",
    "                            temperature=0.5,\n",
    "                            credentials=credentials)"
   ]
  },
  {
   "cell_type": "code",
   "execution_count": 7,
   "metadata": {},
   "outputs": [
    {
     "name": "stdout",
     "output_type": "stream",
     "text": [
      "<class 'langchain_google_genai.chat_models.ChatGoogleGenerativeAI'>\n"
     ]
    }
   ],
   "source": [
    "print(type(llm))"
   ]
  },
  {
   "cell_type": "code",
   "execution_count": 8,
   "metadata": {},
   "outputs": [
    {
     "data": {
      "text/plain": [
       "True"
      ]
     },
     "execution_count": 8,
     "metadata": {},
     "output_type": "execute_result"
    }
   ],
   "source": [
    "isinstance(llm, ChatGoogleGenerativeAI)"
   ]
  },
  {
   "cell_type": "code",
   "execution_count": 13,
   "metadata": {},
   "outputs": [
    {
     "data": {
      "text/plain": [
       "'gemini-1.5-flash'"
      ]
     },
     "execution_count": 13,
     "metadata": {},
     "output_type": "execute_result"
    }
   ],
   "source": [
    "llm.model.split('/')[-1]"
   ]
  },
  {
   "cell_type": "code",
   "execution_count": 4,
   "metadata": {},
   "outputs": [
    {
     "data": {
      "text/plain": [
       "AIMessage(content=\"(Verse 1)\\nIn the realm of code, where data flows,\\nA tool was born, LangChain, it goes.\\nWith chains of thought, it weaves its spell,\\nTo unlock knowledge, secrets to tell.\\n\\n(Chorus)\\nOh, LangChain, LangChain, a symphony of code,\\nConnecting minds, a path we've strode.\\nWith prompts and chains, we tap the well,\\nOf language models, stories to tell.\\n\\n(Verse 2)\\nFrom LLM's power, we draw our might,\\nTo answer questions, day and night.\\nWith prompts we guide, with chains we bind,\\nA tapestry of words, for all to find.\\n\\n(Chorus)\\nOh, LangChain, LangChain, a symphony of code,\\nConnecting minds, a path we've strode.\\nWith prompts and chains, we tap the well,\\nOf language models, stories to tell.\\n\\n(Verse 3)\\nThrough agents and tools, it takes its stand,\\nTo automate tasks, with a helping hand.\\nFrom summarization to text creation,\\nLangChain empowers, with innovation.\\n\\n(Chorus)\\nOh, LangChain, LangChain, a symphony of code,\\nConnecting minds, a path we've strode.\\nWith prompts and chains, we tap the well,\\nOf language models, stories to tell.\\n\\n(Outro)\\nSo let us sing, of LangChain's grace,\\nA tool for all, in every space.\\nWith chains of thought, it guides our way,\\nTo a future bright, where knowledge holds sway. \\n\", response_metadata={'prompt_feedback': {'block_reason': 0, 'safety_ratings': []}, 'finish_reason': 'STOP', 'safety_ratings': [{'category': 'HARM_CATEGORY_SEXUALLY_EXPLICIT', 'probability': 'NEGLIGIBLE', 'blocked': False}, {'category': 'HARM_CATEGORY_HATE_SPEECH', 'probability': 'NEGLIGIBLE', 'blocked': False}, {'category': 'HARM_CATEGORY_HARASSMENT', 'probability': 'NEGLIGIBLE', 'blocked': False}, {'category': 'HARM_CATEGORY_DANGEROUS_CONTENT', 'probability': 'NEGLIGIBLE', 'blocked': False}]}, id='run-470fd70c-d091-4c23-bf8b-7ac5564a1336-0', usage_metadata={'input_tokens': 8, 'output_tokens': 337, 'total_tokens': 345})"
      ]
     },
     "execution_count": 4,
     "metadata": {},
     "output_type": "execute_result"
    }
   ],
   "source": [
    "llm.invoke(\"Sing a ballad of LangChain.\")"
   ]
  },
  {
   "cell_type": "code",
   "execution_count": 14,
   "metadata": {},
   "outputs": [],
   "source": [
    "from langchain_openai import ChatOpenAI\n",
    "llm = ChatOpenAI(model='gpt-4o',\n",
    "                  verbose=True,\n",
    "                  temperature=0)"
   ]
  },
  {
   "cell_type": "code",
   "execution_count": 15,
   "metadata": {},
   "outputs": [
    {
     "data": {
      "text/plain": [
       "'gpt-4o'"
      ]
     },
     "execution_count": 15,
     "metadata": {},
     "output_type": "execute_result"
    }
   ],
   "source": [
    "llm.model_name"
   ]
  },
  {
   "cell_type": "code",
   "execution_count": 17,
   "metadata": {},
   "outputs": [],
   "source": [
    "from langchain_community.llms import Ollama\n",
    "llm = Ollama(model='openhermes')"
   ]
  },
  {
   "cell_type": "code",
   "execution_count": 18,
   "metadata": {},
   "outputs": [
    {
     "data": {
      "text/plain": [
       "True"
      ]
     },
     "execution_count": 18,
     "metadata": {},
     "output_type": "execute_result"
    }
   ],
   "source": [
    "isinstance(llm, Ollama)"
   ]
  },
  {
   "cell_type": "code",
   "execution_count": 19,
   "metadata": {},
   "outputs": [
    {
     "data": {
      "text/plain": [
       "'openhermes'"
      ]
     },
     "execution_count": 19,
     "metadata": {},
     "output_type": "execute_result"
    }
   ],
   "source": [
    "llm.model"
   ]
  }
 ],
 "metadata": {
  "kernelspec": {
   "display_name": "crewai",
   "language": "python",
   "name": "python3"
  },
  "language_info": {
   "codemirror_mode": {
    "name": "ipython",
    "version": 3
   },
   "file_extension": ".py",
   "mimetype": "text/x-python",
   "name": "python",
   "nbconvert_exporter": "python",
   "pygments_lexer": "ipython3",
   "version": "3.11.9"
  }
 },
 "nbformat": 4,
 "nbformat_minor": 2
}
